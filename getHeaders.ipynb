{
 "cells": [
  {
   "cell_type": "markdown",
   "metadata": {},
   "source": [
    "## How do we get data by header?"
   ]
  },
  {
   "cell_type": "code",
   "execution_count": 1,
   "metadata": {},
   "outputs": [],
   "source": [
    "import pdfplumber\n",
    "def get_lines(name):\n",
    "    with pdfplumber.open(name) as pdf:\n",
    "        return pdf.pages[0].extract_text_lines()\n",
    "\n",
    "\n",
    "lines = get_lines(\"bryan-resume.pdf\")"
   ]
  },
  {
   "cell_type": "code",
   "execution_count": 2,
   "metadata": {},
   "outputs": [
    {
     "name": "stdout",
     "output_type": "stream",
     "text": [
      "dict_keys(['text', 'x0', 'top', 'x1', 'bottom', 'chars'])\n"
     ]
    }
   ],
   "source": [
    "print(lines[0].keys())"
   ]
  },
  {
   "cell_type": "markdown",
   "metadata": {},
   "source": [
    "From every line, pdfplumber gives us information into it's location on the page x0,x1 and top,bottom and each char data which includes styling. For now, all we care about is the text at \"text\""
   ]
  },
  {
   "cell_type": "code",
   "execution_count": 10,
   "metadata": {},
   "outputs": [
    {
     "name": "stdout",
     "output_type": "stream",
     "text": [
      "Bryan Ehlers\n",
      "(507)-403-1634 bryan-ehlers@uiowa.edu\n",
      "Education\n",
      "bryan ehlers\n",
      "(507)-403-1634 bryan-ehlers@uiowa.edu\n",
      "education\n",
      "['bryan', 'ehlers']\n",
      "['(507)-403-1634', 'bryan-ehlers@uiowa.edu']\n",
      "['education']\n"
     ]
    }
   ],
   "source": [
    "for line in lines[0:3]:\n",
    "    print(line['text'])\n",
    "for line in lines[0:3]:\n",
    "    print(line['text'].lower())\n",
    "for line in lines[0:3]:\n",
    "    print(line['text'].lower().split())"
   ]
  },
  {
   "cell_type": "markdown",
   "metadata": {},
   "source": [
    "#### You can add to these if you want"
   ]
  },
  {
   "cell_type": "code",
   "execution_count": 4,
   "metadata": {},
   "outputs": [],
   "source": [
    "SECTION_TITLES = [\n",
    "    \"employment\",\n",
    "    \"education\",\n",
    "    \"experience\",\n",
    "    \"projects\",\n",
    "    \"skills\",\n",
    "    \"coursework\",\n",
    "    \"research\",\n",
    "    \"achievements\",\n",
    "    \"technologies\",\n",
    "]\n"
   ]
  },
  {
   "cell_type": "markdown",
   "metadata": {},
   "source": [
    "### Implement get sections\n",
    "We keep track of the section we're in and add all lines into that section as long as we're in it. Problem is determining if we're in a section"
   ]
  },
  {
   "cell_type": "code",
   "execution_count": 13,
   "metadata": {},
   "outputs": [],
   "source": [
    "# TODO: implement this\n",
    "# should give back the section title we're in now\n",
    "# if this isn't a section, return \"\"\n",
    "def section_title(line):\n",
    "    return \"\""
   ]
  },
  {
   "cell_type": "code",
   "execution_count": null,
   "metadata": {},
   "outputs": [],
   "source": [
    "from collections import defaultdict\n",
    "\n",
    "def get_sections(lines):\n",
    "    sectionData = defaultdict(list)\n",
    "\n",
    "\n",
    "    section = \"\"\n",
    "    for line in lines:\n",
    "        if not len(line):\n",
    "            continue\n",
    "        res = section_title(line)\n",
    "        if res:\n",
    "            section = res\n",
    "        elif len(section):\n",
    "            sectionData[section].append(line[\"text\"])\n",
    "    \n",
    "    return sectionData\n",
    "\n",
    "\n",
    "data = get_sections(lines)\n",
    "for key in data:\n",
    "    print(key)\n",
    "    for line in data[key]:\n",
    "        print(line)\n",
    "    print()"
   ]
  }
 ],
 "metadata": {
  "kernelspec": {
   "display_name": "env",
   "language": "python",
   "name": "python3"
  },
  "language_info": {
   "codemirror_mode": {
    "name": "ipython",
    "version": 3
   },
   "file_extension": ".py",
   "mimetype": "text/x-python",
   "name": "python",
   "nbconvert_exporter": "python",
   "pygments_lexer": "ipython3",
   "version": "3.13.1"
  }
 },
 "nbformat": 4,
 "nbformat_minor": 2
}
