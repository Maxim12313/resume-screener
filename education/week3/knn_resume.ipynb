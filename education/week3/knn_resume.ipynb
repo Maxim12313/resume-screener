{
 "cells": [
  {
   "cell_type": "code",
   "execution_count": null,
   "metadata": {},
   "outputs": [],
   "source": [
    "!curl -L -o updated-resume-dataset.zip https://www.kaggle.com/api/v1/datasets/download/jillanisofttech/updated-resume-dataset"
   ]
  },
  {
   "cell_type": "markdown",
   "metadata": {},
   "source": [
    "Some useful regex for cleaning"
   ]
  },
  {
   "cell_type": "code",
   "execution_count": 1,
   "metadata": {},
   "outputs": [
    {
     "name": "stdout",
     "output_type": "stream",
     "text": [
      " hello there w , , , (Chinese), (Japanese), (Persian)\n"
     ]
    }
   ],
   "source": [
    "import re\n",
    "text = \"http://mystuff hello there        w \\n          é, à, ö, ñ 漢 (Chinese), こんにちは (Japanese), به متنی(Persian)\"\n",
    "\n",
    "# clean links\n",
    "text = re.sub(r\"http\\S+\", \" \", text)\n",
    "# remove all non ascii\n",
    "text = re.sub(r\"[^\\x00-\\x7f]\", \" \", text)\n",
    "# remove extra whitespace\n",
    "text = re.sub(r\"\\s+\", \" \", text)\n",
    "\n",
    "print(text)"
   ]
  },
  {
   "cell_type": "markdown",
   "metadata": {},
   "source": [
    "Train a knn model on a resume dataset from resume to job designation. Use what you learned in knn_sms. \n",
    "\n",
    "1. Read data\n",
    "2. Check data\n",
    "3. Clean data\n",
    "4. Transform data\n",
    "5. Fit model with data\n",
    "6. Interpret findings with wordcloud (optional)\n",
    "7. Make it predict on pdf resumes"
   ]
  }
 ],
 "metadata": {
  "kernelspec": {
   "display_name": "env",
   "language": "python",
   "name": "python3"
  },
  "language_info": {
   "codemirror_mode": {
    "name": "ipython",
    "version": 3
   },
   "file_extension": ".py",
   "mimetype": "text/x-python",
   "name": "python",
   "nbconvert_exporter": "python",
   "pygments_lexer": "ipython3",
   "version": "3.12.7"
  }
 },
 "nbformat": 4,
 "nbformat_minor": 2
}
